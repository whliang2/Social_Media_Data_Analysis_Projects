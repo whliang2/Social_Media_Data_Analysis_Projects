{
 "cells": [
  {
   "cell_type": "code",
   "execution_count": 14,
   "metadata": {},
   "outputs": [],
   "source": [
    "import pandas as pd\n",
    "import numpy as np\n",
    "import matplotlib.pyplot as plt"
   ]
  },
  {
   "cell_type": "code",
   "execution_count": 15,
   "metadata": {},
   "outputs": [
    {
     "data": {
      "text/html": [
       "<div>\n",
       "<style scoped>\n",
       "    .dataframe tbody tr th:only-of-type {\n",
       "        vertical-align: middle;\n",
       "    }\n",
       "\n",
       "    .dataframe tbody tr th {\n",
       "        vertical-align: top;\n",
       "    }\n",
       "\n",
       "    .dataframe thead th {\n",
       "        text-align: right;\n",
       "    }\n",
       "</style>\n",
       "<table border=\"1\" class=\"dataframe\">\n",
       "  <thead>\n",
       "    <tr style=\"text-align: right;\">\n",
       "      <th></th>\n",
       "      <th>company_urlname</th>\n",
       "      <th>company_id</th>\n",
       "      <th>shares</th>\n",
       "      <th>C2B_likes</th>\n",
       "      <th>total_comments</th>\n",
       "      <th>weekday</th>\n",
       "      <th>afinnscore</th>\n",
       "      <th>bingscore</th>\n",
       "      <th>anger</th>\n",
       "      <th>anticipation</th>\n",
       "      <th>...</th>\n",
       "      <th>negative</th>\n",
       "      <th>positive</th>\n",
       "      <th>sadness</th>\n",
       "      <th>surprise</th>\n",
       "      <th>trust</th>\n",
       "      <th>safety</th>\n",
       "      <th>performance</th>\n",
       "      <th>adventure</th>\n",
       "      <th>luxury</th>\n",
       "      <th>affordable</th>\n",
       "    </tr>\n",
       "  </thead>\n",
       "  <tbody>\n",
       "    <tr>\n",
       "      <th>0</th>\n",
       "      <td>Acura</td>\n",
       "      <td>8.529929e+10</td>\n",
       "      <td>0.7</td>\n",
       "      <td>60.6</td>\n",
       "      <td>26.8</td>\n",
       "      <td>3.6</td>\n",
       "      <td>4.0</td>\n",
       "      <td>1.7</td>\n",
       "      <td>0.2</td>\n",
       "      <td>1.3</td>\n",
       "      <td>...</td>\n",
       "      <td>0.4</td>\n",
       "      <td>2.5</td>\n",
       "      <td>0.1</td>\n",
       "      <td>0.8</td>\n",
       "      <td>0.9</td>\n",
       "      <td>0</td>\n",
       "      <td>1</td>\n",
       "      <td>0</td>\n",
       "      <td>1</td>\n",
       "      <td>0</td>\n",
       "    </tr>\n",
       "    <tr>\n",
       "      <th>1</th>\n",
       "      <td>astonmartin</td>\n",
       "      <td>1.567872e+10</td>\n",
       "      <td>277.7</td>\n",
       "      <td>2500.9</td>\n",
       "      <td>96.0</td>\n",
       "      <td>3.7</td>\n",
       "      <td>3.9</td>\n",
       "      <td>1.8</td>\n",
       "      <td>0.4</td>\n",
       "      <td>2.0</td>\n",
       "      <td>...</td>\n",
       "      <td>0.5</td>\n",
       "      <td>4.6</td>\n",
       "      <td>0.3</td>\n",
       "      <td>1.0</td>\n",
       "      <td>1.8</td>\n",
       "      <td>1</td>\n",
       "      <td>1</td>\n",
       "      <td>1</td>\n",
       "      <td>1</td>\n",
       "      <td>0</td>\n",
       "    </tr>\n",
       "    <tr>\n",
       "      <th>2</th>\n",
       "      <td>audi</td>\n",
       "      <td>9.658598e+10</td>\n",
       "      <td>1163.5</td>\n",
       "      <td>8507.3</td>\n",
       "      <td>371.4</td>\n",
       "      <td>3.8</td>\n",
       "      <td>1.5</td>\n",
       "      <td>0.9</td>\n",
       "      <td>0.7</td>\n",
       "      <td>1.4</td>\n",
       "      <td>...</td>\n",
       "      <td>0.7</td>\n",
       "      <td>1.9</td>\n",
       "      <td>0.5</td>\n",
       "      <td>0.5</td>\n",
       "      <td>1.2</td>\n",
       "      <td>0</td>\n",
       "      <td>1</td>\n",
       "      <td>1</td>\n",
       "      <td>1</td>\n",
       "      <td>0</td>\n",
       "    </tr>\n",
       "    <tr>\n",
       "      <th>3</th>\n",
       "      <td>BentleyMotors</td>\n",
       "      <td>1.240000e+14</td>\n",
       "      <td>15.6</td>\n",
       "      <td>183.5</td>\n",
       "      <td>7.9</td>\n",
       "      <td>2.5</td>\n",
       "      <td>5.2</td>\n",
       "      <td>4.5</td>\n",
       "      <td>0.5</td>\n",
       "      <td>2.9</td>\n",
       "      <td>...</td>\n",
       "      <td>0.8</td>\n",
       "      <td>6.6</td>\n",
       "      <td>0.1</td>\n",
       "      <td>1.1</td>\n",
       "      <td>3.0</td>\n",
       "      <td>1</td>\n",
       "      <td>1</td>\n",
       "      <td>0</td>\n",
       "      <td>1</td>\n",
       "      <td>0</td>\n",
       "    </tr>\n",
       "    <tr>\n",
       "      <th>4</th>\n",
       "      <td>BMWUSA</td>\n",
       "      <td>3.100000e+11</td>\n",
       "      <td>40.9</td>\n",
       "      <td>446.7</td>\n",
       "      <td>46.8</td>\n",
       "      <td>3.9</td>\n",
       "      <td>3.6</td>\n",
       "      <td>1.3</td>\n",
       "      <td>0.1</td>\n",
       "      <td>1.5</td>\n",
       "      <td>...</td>\n",
       "      <td>0.2</td>\n",
       "      <td>1.9</td>\n",
       "      <td>0.2</td>\n",
       "      <td>0.6</td>\n",
       "      <td>1.4</td>\n",
       "      <td>0</td>\n",
       "      <td>1</td>\n",
       "      <td>1</td>\n",
       "      <td>1</td>\n",
       "      <td>0</td>\n",
       "    </tr>\n",
       "  </tbody>\n",
       "</table>\n",
       "<p>5 rows × 23 columns</p>\n",
       "</div>"
      ],
      "text/plain": [
       "  company_urlname    company_id  shares  C2B_likes  total_comments  weekday  \\\n",
       "0           Acura  8.529929e+10     0.7       60.6            26.8      3.6   \n",
       "1     astonmartin  1.567872e+10   277.7     2500.9            96.0      3.7   \n",
       "2            audi  9.658598e+10  1163.5     8507.3           371.4      3.8   \n",
       "3   BentleyMotors  1.240000e+14    15.6      183.5             7.9      2.5   \n",
       "4          BMWUSA  3.100000e+11    40.9      446.7            46.8      3.9   \n",
       "\n",
       "   afinnscore  bingscore  anger  anticipation  ...  negative  positive  \\\n",
       "0         4.0        1.7    0.2           1.3  ...       0.4       2.5   \n",
       "1         3.9        1.8    0.4           2.0  ...       0.5       4.6   \n",
       "2         1.5        0.9    0.7           1.4  ...       0.7       1.9   \n",
       "3         5.2        4.5    0.5           2.9  ...       0.8       6.6   \n",
       "4         3.6        1.3    0.1           1.5  ...       0.2       1.9   \n",
       "\n",
       "   sadness  surprise  trust  safety  performance  adventure  luxury  \\\n",
       "0      0.1       0.8    0.9       0            1          0       1   \n",
       "1      0.3       1.0    1.8       1            1          1       1   \n",
       "2      0.5       0.5    1.2       0            1          1       1   \n",
       "3      0.1       1.1    3.0       1            1          0       1   \n",
       "4      0.2       0.6    1.4       0            1          1       1   \n",
       "\n",
       "   affordable  \n",
       "0           0  \n",
       "1           0  \n",
       "2           0  \n",
       "3           0  \n",
       "4           0  \n",
       "\n",
       "[5 rows x 23 columns]"
      ]
     },
     "execution_count": 15,
     "metadata": {},
     "output_type": "execute_result"
    }
   ],
   "source": [
    "df = pd.read_csv(\"./data/group_result.csv\")\n",
    "df.head()"
   ]
  },
  {
   "cell_type": "code",
   "execution_count": 11,
   "metadata": {},
   "outputs": [],
   "source": [
    "# df.columns\n",
    "# df.isna().sum()\n",
    "# df = df.dropna()\n",
    "# df = df.set_index('company_urlname')\n",
    "# df.head(1)"
   ]
  },
  {
   "cell_type": "code",
   "execution_count": 12,
   "metadata": {
    "scrolled": true
   },
   "outputs": [],
   "source": [
    "# df = df.groupby(['company_urlname']).mean().round(decimals=1)\n",
    "# print(df.describe())\n",
    "# df.sort_values(by=['shares'],ascending=False).head(10)\n",
    "# df.to_csv('./data/group_result.csv')\n"
   ]
  },
  {
   "cell_type": "code",
   "execution_count": 5,
   "metadata": {},
   "outputs": [
    {
     "data": {
      "text/plain": [
       "Index(['company_id', 'shares', 'C2B_likes', 'total_comments', 'weekday',\n",
       "       'afinnscore', 'bingscore', 'anger', 'anticipation', 'disgust', 'fear',\n",
       "       'joy', 'negative', 'positive', 'sadness', 'surprise', 'trust'],\n",
       "      dtype='object')"
      ]
     },
     "execution_count": 5,
     "metadata": {},
     "output_type": "execute_result"
    }
   ],
   "source": [
    "def get_top_10_bar_chart(column_name):\n",
    "    ax = df.sort_values(by=[column_name],ascending=False).head(15)[column_name].plot.bar(figsize=(10,5))\n",
    "    ax.set_title(column_name,fontsize=30)\n",
    "    return ax, ax.legend(loc=1)  \n",
    "def get_top_10_brand_series_list(column_name):\n",
    "    return df.sort_values(by=[column_name],ascending=False).head(10)[column_name].round(decimals=1)\n",
    "def get_top_10_brand_name_list(column_name):\n",
    "    return df.sort_values(by=[column_name],ascending=False).head(10)[column_name].keys()\n",
    "def get_top_10_brand_value_list(column_name):\n",
    "    return df.sort_values(by=[column_name],ascending=False).head(10)[column_name].values\n",
    "df.columns"
   ]
  },
  {
   "cell_type": "code",
   "execution_count": 6,
   "metadata": {},
   "outputs": [
    {
     "data": {
      "text/plain": [
       "company_urlname\n",
       "Lamborghini    1328.3\n",
       "audi           1163.5\n",
       "Ferrari         332.8\n",
       "astonmartin     277.7\n",
       "porsche         272.7\n",
       "dodge           148.0\n",
       "jeep            111.8\n",
       "chevrolet       109.6\n",
       "ford             97.0\n",
       "cadillac         90.0\n",
       "Name: shares, dtype: float64"
      ]
     },
     "execution_count": 6,
     "metadata": {},
     "output_type": "execute_result"
    },
    {
     "data": {
      "image/png": "[encoded data removed]",
      "text/plain": [
       "<Figure size 720x360 with 1 Axes>"
      ]
     },
     "metadata": {
      "needs_background": "light"
     },
     "output_type": "display_data"
    }
   ],
   "source": [
    "get_top_10_bar_chart(\"shares\")\n",
    "get_top_10_brand_series_list(\"shares\")\n"
   ]
  },
  {
   "cell_type": "code",
   "execution_count": 7,
   "metadata": {},
   "outputs": [
    {
     "data": {
      "text/plain": [
       "company_urlname\n",
       "audi           8507.3\n",
       "Lamborghini    8327.8\n",
       "Ferrari        3611.7\n",
       "astonmartin    2500.9\n",
       "porsche        2017.9\n",
       "jeep           1479.2\n",
       "dodge          1321.7\n",
       "cadillac       1009.9\n",
       "ford            732.4\n",
       "Honda           702.5\n",
       "Name: C2B_likes, dtype: float64"
      ]
     },
     "execution_count": 7,
     "metadata": {},
     "output_type": "execute_result"
    },
    {
     "data": {
      "image/png": "[encoded data removed]",
      "text/plain": [
       "<Figure size 720x360 with 1 Axes>"
      ]
     },
     "metadata": {
      "needs_background": "light"
     },
     "output_type": "display_data"
    }
   ],
   "source": [
    "get_top_10_bar_chart(\"C2B_likes\")\n",
    "get_top_10_brand_series_list(\"C2B_likes\")\n"
   ]
  },
  {
   "cell_type": "code",
   "execution_count": 8,
   "metadata": {
    "scrolled": true
   },
   "outputs": [
    {
     "data": {
      "text/plain": [
       "company_urlname\n",
       "Lamborghini    410.7\n",
       "audi           371.4\n",
       "Pontiac        275.0\n",
       "jeep           199.3\n",
       "dodge          153.4\n",
       "porsche        121.6\n",
       "ford           116.0\n",
       "Mazda          106.1\n",
       "Ferrari         99.5\n",
       "astonmartin     96.0\n",
       "Name: total_comments, dtype: float64"
      ]
     },
     "execution_count": 8,
     "metadata": {},
     "output_type": "execute_result"
    },
    {
     "data": {
      "image/png": "[encoded data removed]",
      "text/plain": [
       "<Figure size 720x360 with 1 Axes>"
      ]
     },
     "metadata": {
      "needs_background": "light"
     },
     "output_type": "display_data"
    }
   ],
   "source": [
    "get_top_10_bar_chart(\"total_comments\")\n",
    "get_top_10_brand_series_list(\"total_comments\")\n"
   ]
  },
  {
   "cell_type": "code",
   "execution_count": 9,
   "metadata": {},
   "outputs": [
    {
     "data": {
      "text/plain": [
       "{'Ferrari',\n",
       " 'Honda',\n",
       " 'Lamborghini',\n",
       " 'Mazda',\n",
       " 'Pontiac',\n",
       " 'astonmartin',\n",
       " 'audi',\n",
       " 'cadillac',\n",
       " 'chevrolet',\n",
       " 'dodge',\n",
       " 'ford',\n",
       " 'jeep',\n",
       " 'porsche'}"
      ]
     },
     "execution_count": 9,
     "metadata": {},
     "output_type": "execute_result"
    }
   ],
   "source": [
    "a = get_top_10_brand_name_list(\"total_comments\")\n",
    "b = get_top_10_brand_name_list(\"shares\")\n",
    "c = get_top_10_brand_name_list(\"C2B_likes\")\n",
    "name_list =[]\n",
    "for x in a:\n",
    "    name_list.append(x)\n",
    "for x in b:\n",
    "    name_list.append(x)\n",
    "for x in c:\n",
    "    name_list.append(x)\n",
    "    \n",
    "    \n",
    "set(name_list)"
   ]
  },
  {
   "cell_type": "code",
   "execution_count": null,
   "metadata": {},
   "outputs": [],
   "source": []
  },
  {
   "cell_type": "code",
   "execution_count": null,
   "metadata": {},
   "outputs": [],
   "source": []
  },
  {
   "cell_type": "code",
   "execution_count": null,
   "metadata": {},
   "outputs": [],
   "source": []
  }
 ],
 "metadata": {
  "kernelspec": {
   "display_name": "Python 3",
   "language": "python",
   "name": "python3"
  },
  "language_info": {
   "codemirror_mode": {
    "name": "ipython",
    "version": 3
   },
   "file_extension": ".py",
   "mimetype": "text/x-python",
   "name": "python",
   "nbconvert_exporter": "python",
   "pygments_lexer": "ipython3",
   "version": "3.7.7"
  }
 },
 "nbformat": 4,
 "nbformat_minor": 4
}
